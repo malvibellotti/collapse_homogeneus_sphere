{
 "cells": [
  {
   "cell_type": "code",
   "execution_count": 48,
   "metadata": {},
   "outputs": [],
   "source": [
    "import numpy as np\n",
    "\n",
    "G = 6.674e-11\n",
    "manually_set = 0     #set this to 1 if you want to give the values from terminal, otherwise read from input_raw.txt\n",
    "starting_time = 0       #starting time added to the input_converted file\n",
    "center_of_mass = 1      #set this to True if you want the coordinates to be in the center of mass\n",
    "\n",
    "#mass is always set (we can change it in the future but I think it's the simplest way)\n",
    "#now we are left with radius and velocity\n",
    "set_radius = True       #if this is True the radius will be set to 1 ua (which can be changed in the code). Then the velocity will be calculated accordingly (to get G=1)\n",
    "#if this is False the velocity will be set to 1000m/s and the radius will be calculated accordingly\n",
    "\n",
    "mass = []\n",
    "x = []\n",
    "y = []\n",
    "z = []\n",
    "vx =[]\n",
    "vy = []\n",
    "vz = []\n",
    "r = []\n",
    "\n",
    "if manually_set == True:\n",
    "    number_of_bodies = input(\"Enter the number of bodies:\")\n",
    "    for i in range(int(number_of_bodies)):\n",
    "        mass.append(float(input(\"Enter mass:\")))\n",
    "        x.append(float(input(\"Enter x\")))\n",
    "        y.append(float(input(\"Enter y\")))\n",
    "        z.append(float(input(\"Enter z\")))\n",
    "        vx.append(float(input(\"Enter vx\")))\n",
    "        vy.append(float(input(\"Enter vy\")))\n",
    "        vz.append(float(input(\"Enter vz\")))\n",
    "    \n",
    "        r.append(np.sqrt(x[i]**2 + y[i]**2 + z[i]**2))      #non so se serve\n",
    "else:\n",
    "    mass, x, y, z, vx, vy, vz = np.loadtxt(\"input_raw.txt\", delimiter=\" \", comments=\"#\", dtype=\"float\").T\n",
    "    number_of_bodies = len(mass)\n",
    "\n",
    "mass_x = [a * b for a, b in zip(mass, x)]      #mass times coordinate x\n",
    "mass_y = [a * b for a, b in zip(mass, y)]      #mass times coordinate y\n",
    "mass_z = [a * b for a, b in zip(mass, z)]      #mass times coordinate z\n",
    "cm_x = np.sum(mass_x)/sum(mass)\n",
    "cm_y = np.sum(mass_y)/sum(mass)\n",
    "cm_z = np.sum(mass_z)/sum(mass)\n",
    "\n",
    "mass_internal = mass[0]     #use the first mass as unit, you can choose another one\n",
    "\n",
    "if set_radius == True:\n",
    "    r_internal = 149597870700       #m, 1 ua, you can change this to be anything (but 0)\n",
    "    v_internal = np.sqrt(G*mass_internal/r_internal)\n",
    "\n",
    "else:\n",
    "    v_internal = 1000       #m/s\n",
    "    r_internal = G*mass_internal/v_internal**2\n",
    "\n",
    "t_internal = r_internal/v_internal\n",
    "\n",
    "\n",
    "new_mass = mass/mass_internal\n",
    "\n",
    "if center_of_mass == True:\n",
    "    new_x = (x-cm_x)/r_internal\n",
    "    new_y = (y-cm_y)/r_internal\n",
    "    new_z = (z-cm_z)/r_internal\n",
    "else:\n",
    "    new_x = x/r_internal\n",
    "    new_y = y/r_internal\n",
    "    new_z = z/r_internal\n",
    "\n",
    "new_vx = vx/v_internal\n",
    "new_vy = vy/v_internal\n",
    "new_vz = vz/v_internal\n",
    "\n",
    "with open(\"input_converted.in\", \"w\") as f:     #file ready to be given to the C code\n",
    "    print(number_of_bodies, starting_time, sep=\"\\n\", file=f)\n",
    "    np.savetxt(f, np.column_stack([new_mass, new_x, new_y, new_z, new_vx, new_vy, new_vz]), delimiter=\" \")\n",
    "    \n"
   ]
  },
  {
   "cell_type": "code",
   "execution_count": 49,
   "metadata": {},
   "outputs": [
    {
     "name": "stdout",
     "output_type": "stream",
     "text": [
      " fattore di conversione del tempo 2239726.64642816\n",
      "\n"
     ]
    }
   ],
   "source": [
    "print(\" fattore di conversione del tempo\", t_internal)\n",
    "print()"
   ]
  },
  {
   "cell_type": "code",
   "execution_count": 2,
   "metadata": {},
   "outputs": [
    {
     "data": {
      "text/plain": [
       "32512"
      ]
     },
     "execution_count": 2,
     "metadata": {},
     "output_type": "execute_result"
    }
   ],
   "source": [
    "#I think this works only for windows, change the command inside os.system \n",
    "#make sure that the txt input file is good\n",
    "import os\n",
    "#os.system(\"cmd /c g++ nbody_sh1.C\")\n",
    "os.system(\"cmd /c a.exe < input_converted.txt > output_converted.txt\")"
   ]
  },
  {
   "cell_type": "code",
   "execution_count": 3,
   "metadata": {},
   "outputs": [
    {
     "ename": "IndexError",
     "evalue": "list index out of range",
     "output_type": "error",
     "traceback": [
      "\u001b[0;31m---------------------------------------------------------------------------\u001b[0m",
      "\u001b[0;31mIndexError\u001b[0m                                Traceback (most recent call last)",
      "\u001b[0;32m<ipython-input-3-76af4f31c4e5>\u001b[0m in \u001b[0;36m<module>\u001b[0;34m\u001b[0m\n\u001b[1;32m      6\u001b[0m     \u001b[0mlines\u001b[0m \u001b[0;34m=\u001b[0m \u001b[0mf\u001b[0m\u001b[0;34m.\u001b[0m\u001b[0mreadlines\u001b[0m\u001b[0;34m(\u001b[0m\u001b[0;34m)\u001b[0m\u001b[0;34m\u001b[0m\u001b[0;34m\u001b[0m\u001b[0m\n\u001b[1;32m      7\u001b[0m \u001b[0;34m\u001b[0m\u001b[0m\n\u001b[0;32m----> 8\u001b[0;31m \u001b[0mn\u001b[0m \u001b[0;34m=\u001b[0m \u001b[0mint\u001b[0m\u001b[0;34m(\u001b[0m\u001b[0mlines\u001b[0m\u001b[0;34m[\u001b[0m\u001b[0;36m0\u001b[0m\u001b[0;34m]\u001b[0m\u001b[0;34m)\u001b[0m        \u001b[0;31m#number of bodies, I need it to tell how many lines to skip (it repeats every n+2)\u001b[0m\u001b[0;34m\u001b[0m\u001b[0;34m\u001b[0m\u001b[0m\n\u001b[0m\u001b[1;32m      9\u001b[0m \u001b[0ml\u001b[0m \u001b[0;34m=\u001b[0m \u001b[0mlen\u001b[0m\u001b[0;34m(\u001b[0m\u001b[0mlines\u001b[0m\u001b[0;34m)\u001b[0m      \u001b[0;31m#dividing this by the number of bodies + 2 gives me the number of cycles\u001b[0m\u001b[0;34m\u001b[0m\u001b[0;34m\u001b[0m\u001b[0m\n\u001b[1;32m     10\u001b[0m \u001b[0mcycles\u001b[0m \u001b[0;34m=\u001b[0m \u001b[0mint\u001b[0m\u001b[0;34m(\u001b[0m\u001b[0ml\u001b[0m\u001b[0;34m/\u001b[0m\u001b[0;34m(\u001b[0m\u001b[0mn\u001b[0m\u001b[0;34m+\u001b[0m\u001b[0;36m2\u001b[0m\u001b[0;34m)\u001b[0m\u001b[0;34m)\u001b[0m\u001b[0;34m\u001b[0m\u001b[0;34m\u001b[0m\u001b[0m\n",
      "\u001b[0;31mIndexError\u001b[0m: list index out of range"
     ]
    }
   ],
   "source": [
    "def Extract(lst, n):        #extract from a list of lists the nth number of the sublist\n",
    "    return [item[n] for item in lst]\n",
    "\n",
    "\n",
    "with open(\"output_converted.txt\") as f:\n",
    "    lines = f.readlines()\n",
    "\n",
    "n = int(lines[0])        #number of bodies, I need it to tell how many lines to skip (it repeats every n+2)\n",
    "l = len(lines)      #dividing this by the number of bodies + 2 gives me the number of cycles\n",
    "cycles = int(l/(n+2))\n",
    "\n",
    "time = lines[1::n+2]      #start from line 0 and read every 5, time\n",
    "\n",
    "data = []*l\n",
    "for i in range(cycles):\n",
    "    for j in range(n):\n",
    "        data.append(lines[i*(n+2)+2+j].split())     #here I take the third to the n+3rd line for the first cycle, where n is the number of bodies, then I take the second cycle, which goes from n+2 to 2n+2, remember that the idexes in range() start from 0\n",
    "\n",
    "#print(data)            #check what's inside to better understand\n",
    "\n",
    "mass = np.float_(Extract(data, 0))      #this is a cycles*n long array, which means that every nth element divides the array in various cycles\n",
    "                                        #for example for 3 bodies the first 3 elements are the masses of the bodies at t1, the second 3 elements are the mass of the bodies at t2 etc\n",
    "x = np.float_(Extract(data, 1))         #same thing for everything else, but instead of taking the first [0] element of each sublist, we take the 1 for x, 2 for y etc\n",
    "y = np.float_(Extract(data, 2))\n",
    "z = np.float_(Extract(data, 3))\n",
    "vx = np.float_(Extract(data, 4))\n",
    "vy = np.float_(Extract(data, 5))\n",
    "vz = np.float_(Extract(data, 6))\n",
    "#7 values from 0 to 6\n",
    "\n",
    "#print(x)               #here there should be only the corresponding element from data\n",
    "\n",
    "\n",
    "real_mass = mass*mass_internal\n",
    "real_x = x*r_internal\n",
    "real_y = y*r_internal\n",
    "real_z = z*r_internal\n",
    "real_vx = vx*r_internal\n",
    "real_vy = vy*r_internal\n",
    "real_vz = vz*r_internal\n",
    "\n",
    "#print(x, real_x)\n",
    "\n",
    "\n",
    "with open(\"output_raw.txt\", 'w') as f:\n",
    "    np.savetxt(f, np.column_stack([real_mass, real_x, real_y, real_z, real_vx, real_vy, real_vz]), delimiter=\" \")       #first write the real values in a file\n"
   ]
  },
  {
   "cell_type": "code",
   "execution_count": null,
   "metadata": {},
   "outputs": [],
   "source": []
  }
 ],
 "metadata": {
  "kernelspec": {
   "display_name": "Python 3",
   "language": "python",
   "name": "python3"
  },
  "language_info": {
   "codemirror_mode": {
    "name": "ipython",
    "version": 3
   },
   "file_extension": ".py",
   "mimetype": "text/x-python",
   "name": "python",
   "nbconvert_exporter": "python",
   "pygments_lexer": "ipython3",
   "version": "3.7.3"
  }
 },
 "nbformat": 4,
 "nbformat_minor": 2
}
